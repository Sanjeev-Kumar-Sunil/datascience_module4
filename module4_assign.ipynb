{
 "cells": [
  {
   "cell_type": "code",
   "execution_count": 15,
   "metadata": {},
   "outputs": [
    {
     "name": "stdout",
     "output_type": "stream",
     "text": [
      "The area of the triangle is 6.0\n",
      "The area of the triangle is 1.7320508075688772\n"
     ]
    }
   ],
   "source": [
    "\"\"\"\n",
    "Assignment 1.1\n",
    "A simple program to find area of a triangle using heron's formula.\n",
    "\"\"\"\n",
    "class Triangle(): # A class triangle which have attributes as sides of triangle a,b,c\n",
    "    def __init__(self,a,b,c): #predefined function __init__() will initializes the sides of triangle class\n",
    "        self.a=a #side 1st of trngle\n",
    "        self.b=b #side 2nd of trngle\n",
    "        self.c=c #side 3rd of trngle\n",
    "    def val(self):\n",
    "        print(self.a,self.b,self.c)\n",
    "class Area(Triangle): # a class area which inherits from its parent class triangle\n",
    "    def __init__(self,*args,**kwargs): # here __init__() calls the __init__() of parent class and initializes the sides of triangle\n",
    "        super(Area,self).__init__(*args,**kwargs)\n",
    "    def findArea(self): #findArea() function finds area of triangle using the heron's formula\n",
    "        s = (self.a + self.b + self.c) / 2 #finding s i.e. semiperimeter\n",
    "        area = (s*(s-self.a)*(s-self.b)*(s-self.c)) ** 0.5 #calculating area\n",
    "        print('The area of the triangle is {}'.format(area))#printing area\n",
    "              \n",
    "area1 = Area(5,3,4) #object area1 of class Area\n",
    "area1.findArea() #calling findArea() of area1\n",
    "area2 = Area(2,2,2) #object area2 of class Area\n",
    "area2.findArea()#calling findArea() of area2\n"
   ]
  },
  {
   "cell_type": "code",
   "execution_count": 39,
   "metadata": {},
   "outputs": [
    {
     "name": "stdout",
     "output_type": "stream",
     "text": [
      "['abfdha', 'ahkhfadshl']\n"
     ]
    }
   ],
   "source": [
    "\"\"\"\n",
    "Assignment 1.2\n",
    "A simple program to implement function filter_long_words() which takes list of word and an integer and return returns list of words longer than n\n",
    "\"\"\"\n",
    "words=[\"abc\",\"abfdha\",\"ahkhfadshl\",\"hd\",\"djhd\",\"a\"] #a list words with some random strings\n",
    "n=5 #assummed n equals 5\n",
    "lst_words=[] #empty list which consist of string of length longer than n\n",
    "def filter_long_words(words,n):\n",
    "    for word in words: #for each string in list words\n",
    "        if(len(word)>n): #condition checking whtether current word is greater than lenth n\n",
    "            lst_words.append(word) #appending word to lst_words if condition satisfies\n",
    "    print(lst_words) #printing lst_words     \n",
    "    \n",
    "filter_long_words(words,n) #calling filter_long_words() with parameter list of strings and interger n "
   ]
  },
  {
   "cell_type": "code",
   "execution_count": 40,
   "metadata": {},
   "outputs": [
    {
     "name": "stdout",
     "output_type": "stream",
     "text": [
      "[3, 6, 10, 2, 4, 1]\n"
     ]
    }
   ],
   "source": [
    "\"\"\"\n",
    "Assignment 2.1\n",
    "A simple program that maps list of string to list of integer where integer represents length of coreesponding string\n",
    "\"\"\"\n",
    "words=[\"abc\",\"abfdha\",\"ahkhfadshl\",\"hd\",\"djhd\",\"a\"] #a list words with some random strings\n",
    "len_words=[] #a list len_words with stores length of corresponding strings\n",
    "def find_word_length(words):\n",
    "    for word in words:#for every string in list words\n",
    "        len_words.append(len(word)) #append length of string to the list len_words at corresponding index\n",
    "    print(len_words) #printing len_words\n",
    "    \n",
    "find_word_length(words)  #calling find_word_length(words) with parameter list consisting of string as elements   \n",
    "        "
   ]
  },
  {
   "cell_type": "code",
   "execution_count": 43,
   "metadata": {},
   "outputs": [
    {
     "name": "stdout",
     "output_type": "stream",
     "text": [
      "Enter a charactere\n",
      "True\n"
     ]
    }
   ],
   "source": [
    "\"\"\"\n",
    "Assignment 2.2\n",
    "A simple program that takes a character as input and returns true if the character is vowel else false\n",
    "\"\"\"\n",
    "vowels=['a','e','i','o','u','A','E','I','O','U'] #list containing all the vowels for matching\n",
    "\n",
    "def check_vowel(words):\n",
    "    is_vowel=False #initialize is_vowel character as false initially\n",
    "    char = input(\"Enter a character\") #takes a character as input from the user\n",
    "    for vowel in vowels: #iterating through the vowel list\n",
    "        if(char == vowel): #checking if input char matches to any elements of vowel list\n",
    "            return True #return true if condition is satisfied\n",
    "    return False     #returns false else\n",
    "    \n",
    "    \n",
    "print(check_vowel(vowels)) #calling check_vowel() function and printing the output of the function"
   ]
  }
 ],
 "metadata": {
  "kernelspec": {
   "display_name": "Python 3",
   "language": "python",
   "name": "python3"
  },
  "language_info": {
   "codemirror_mode": {
    "name": "ipython",
    "version": 3
   },
   "file_extension": ".py",
   "mimetype": "text/x-python",
   "name": "python",
   "nbconvert_exporter": "python",
   "pygments_lexer": "ipython3",
   "version": "3.6.2"
  }
 },
 "nbformat": 4,
 "nbformat_minor": 2
}
